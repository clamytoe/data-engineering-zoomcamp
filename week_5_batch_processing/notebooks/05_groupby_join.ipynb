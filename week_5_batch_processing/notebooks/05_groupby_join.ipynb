{
 "cells": [
  {
   "cell_type": "code",
   "execution_count": 1,
   "id": "6c3a569a",
   "metadata": {},
   "outputs": [],
   "source": [
    "import warnings\n",
    "\n",
    "warnings.filterwarnings('ignore')"
   ]
  },
  {
   "cell_type": "code",
   "execution_count": 2,
   "id": "4341e0e6",
   "metadata": {},
   "outputs": [
    {
     "name": "stdout",
     "output_type": "stream",
     "text": [
      "23/03/04 22:03:00 WARN Utils: Your hostname, ROG-STRIX resolves to a loopback address: 127.0.1.1; using 172.27.115.120 instead (on interface eth0)\n",
      "23/03/04 22:03:00 WARN Utils: Set SPARK_LOCAL_IP if you need to bind to another address\n"
     ]
    },
    {
     "name": "stderr",
     "output_type": "stream",
     "text": [
      "Setting default log level to \"WARN\".\n",
      "To adjust logging level use sc.setLogLevel(newLevel). For SparkR, use setLogLevel(newLevel).\n"
     ]
    },
    {
     "name": "stdout",
     "output_type": "stream",
     "text": [
      "23/03/04 22:03:02 WARN NativeCodeLoader: Unable to load native-hadoop library for your platform... using builtin-java classes where applicable\n"
     ]
    }
   ],
   "source": [
    "import pyspark\n",
    "from pyspark.sql import SparkSession\n",
    "\n",
    "spark = SparkSession.builder \\\n",
    "    .master(\"local[*]\") \\\n",
    "    .appName('test') \\\n",
    "    .getOrCreate()"
   ]
  },
  {
   "cell_type": "code",
   "execution_count": 3,
   "id": "cd304aec",
   "metadata": {},
   "outputs": [],
   "source": [
    "df_green = spark.read.parquet('data/pq/green/*/*')"
   ]
  },
  {
   "cell_type": "code",
   "execution_count": 4,
   "id": "243991f3",
   "metadata": {},
   "outputs": [],
   "source": [
    "df_green.registerTempTable('green')"
   ]
  },
  {
   "cell_type": "code",
   "execution_count": 5,
   "id": "e43764a7",
   "metadata": {},
   "outputs": [],
   "source": [
    "df_green_revenue = spark.sql(\"\"\"\n",
    "SELECT \n",
    "    date_trunc('hour', lpep_pickup_datetime) AS hour, \n",
    "    PULocationID AS zone,\n",
    "\n",
    "    SUM(total_amount) AS amount,\n",
    "    COUNT(1) AS number_records\n",
    "FROM\n",
    "    green\n",
    "WHERE\n",
    "    lpep_pickup_datetime >= '2020-01-01 00:00:00'\n",
    "GROUP BY\n",
    "    1, 2\n",
    "\"\"\")"
   ]
  },
  {
   "cell_type": "code",
   "execution_count": 6,
   "id": "4f8ced1c",
   "metadata": {},
   "outputs": [
    {
     "name": "stderr",
     "output_type": "stream",
     "text": [
      "[Stage 1:====================================================>    (11 + 1) / 12]\r"
     ]
    },
    {
     "name": "stdout",
     "output_type": "stream",
     "text": [
      "+-------------------+----+------------------+--------------+\n",
      "|               hour|zone|            amount|number_records|\n",
      "+-------------------+----+------------------+--------------+\n",
      "|2020-01-04 18:00:00| 244|308.65000000000003|            13|\n",
      "|2020-01-01 00:00:00| 255| 666.3399999999999|            28|\n",
      "|2020-01-31 23:00:00|  61|            128.55|             6|\n",
      "|2020-01-24 13:00:00| 130|            338.27|            13|\n",
      "|2020-01-16 22:00:00|  41| 433.8700000000001|            33|\n",
      "|2020-01-30 07:00:00| 197|             88.41|             2|\n",
      "|2020-01-04 21:00:00|  17|             93.77|             6|\n",
      "|2020-01-16 19:00:00|  82| 778.5699999999997|            57|\n",
      "|2020-01-19 18:00:00|  41| 578.6900000000003|            46|\n",
      "|2020-01-22 14:00:00| 177|              70.4|             2|\n",
      "|2020-01-08 18:00:00|  17|126.82999999999998|             5|\n",
      "|2020-01-27 07:00:00| 244|241.51000000000005|            14|\n",
      "|2020-01-03 06:00:00|  74| 327.8600000000001|            28|\n",
      "|2020-01-21 07:00:00|  55|505.89000000000004|             9|\n",
      "|2020-01-15 20:00:00|  82|376.13000000000017|            37|\n",
      "|2020-01-02 06:00:00|  69|240.29000000000002|             8|\n",
      "|2020-01-19 21:00:00| 260|            168.39|            16|\n",
      "|2020-01-11 18:00:00| 152|111.42999999999999|             8|\n",
      "|2020-01-20 22:00:00| 225|             32.11|             1|\n",
      "|2020-01-23 21:00:00|  61|             38.58|             2|\n",
      "+-------------------+----+------------------+--------------+\n",
      "only showing top 20 rows\n",
      "\n"
     ]
    },
    {
     "name": "stderr",
     "output_type": "stream",
     "text": [
      "\r",
      "                                                                                \r"
     ]
    }
   ],
   "source": [
    "df_green_revenue.show()"
   ]
  },
  {
   "cell_type": "code",
   "execution_count": 7,
   "id": "3e00310e",
   "metadata": {},
   "outputs": [
    {
     "name": "stderr",
     "output_type": "stream",
     "text": [
      "\r",
      "[Stage 4:==============>                                           (3 + 9) / 12]\r",
      "\r",
      "[Stage 4:===============================================>         (10 + 2) / 12]\r"
     ]
    },
    {
     "name": "stdout",
     "output_type": "stream",
     "text": [
      "23/03/04 22:03:20 WARN MemoryManager: Total allocation exceeds 95.00% (1,020,054,720 bytes) of heap memory\n",
      "Scaling row group sizes to 95.00% for 8 writers\n",
      "23/03/04 22:03:20 WARN MemoryManager: Total allocation exceeds 95.00% (1,020,054,720 bytes) of heap memory\n",
      "Scaling row group sizes to 84.44% for 9 writers\n",
      "23/03/04 22:03:20 WARN MemoryManager: Total allocation exceeds 95.00% (1,020,054,720 bytes) of heap memory\n",
      "Scaling row group sizes to 76.00% for 10 writers\n",
      "23/03/04 22:03:20 WARN MemoryManager: Total allocation exceeds 95.00% (1,020,054,720 bytes) of heap memory\n",
      "Scaling row group sizes to 69.09% for 11 writers\n",
      "23/03/04 22:03:20 WARN MemoryManager: Total allocation exceeds 95.00% (1,020,054,720 bytes) of heap memory\n",
      "Scaling row group sizes to 63.33% for 12 writers\n",
      "23/03/04 22:03:20 WARN MemoryManager: Total allocation exceeds 95.00% (1,020,054,720 bytes) of heap memory\n",
      "Scaling row group sizes to 69.09% for 11 writers\n",
      "23/03/04 22:03:20 WARN MemoryManager: Total allocation exceeds 95.00% (1,020,054,720 bytes) of heap memory\n",
      "Scaling row group sizes to 76.00% for 10 writers\n",
      "23/03/04 22:03:20 WARN MemoryManager: Total allocation exceeds 95.00% (1,020,054,720 bytes) of heap memory\n",
      "Scaling row group sizes to 84.44% for 9 writers\n",
      "23/03/04 22:03:20 WARN MemoryManager: Total allocation exceeds 95.00% (1,020,054,720 bytes) of heap memory\n",
      "Scaling row group sizes to 95.00% for 8 writers\n",
      "23/03/04 22:03:21 WARN MemoryManager: Total allocation exceeds 95.00% (1,020,054,720 bytes) of heap memory\n",
      "Scaling row group sizes to 95.00% for 8 writers\n"
     ]
    },
    {
     "name": "stderr",
     "output_type": "stream",
     "text": [
      "                                                                                \r"
     ]
    }
   ],
   "source": [
    "df_green_revenue \\\n",
    "    .repartition(20) \\\n",
    "    .write.parquet('data/report/revenue/green', mode='overwrite')"
   ]
  },
  {
   "cell_type": "code",
   "execution_count": 8,
   "id": "07ebb68c",
   "metadata": {},
   "outputs": [],
   "source": [
    "df_yellow = spark.read.parquet('data/pq/yellow/*/*')\n",
    "df_yellow.registerTempTable('yellow')"
   ]
  },
  {
   "cell_type": "code",
   "execution_count": 9,
   "id": "9d5be29d",
   "metadata": {},
   "outputs": [],
   "source": [
    "df_yellow_revenue = spark.sql(\"\"\"\n",
    "SELECT \n",
    "    date_trunc('hour', tpep_pickup_datetime) AS hour, \n",
    "    PULocationID AS zone,\n",
    "\n",
    "    SUM(total_amount) AS amount,\n",
    "    COUNT(1) AS number_records\n",
    "FROM\n",
    "    yellow\n",
    "WHERE\n",
    "    tpep_pickup_datetime >= '2020-01-01 00:00:00'\n",
    "GROUP BY\n",
    "    1, 2\n",
    "\"\"\")"
   ]
  },
  {
   "cell_type": "code",
   "execution_count": 10,
   "id": "8bd9264e",
   "metadata": {},
   "outputs": [
    {
     "name": "stderr",
     "output_type": "stream",
     "text": [
      "[Stage 13:====>                                                   (1 + 12) / 13]\r"
     ]
    },
    {
     "name": "stdout",
     "output_type": "stream",
     "text": [
      "23/03/04 22:03:28 WARN MemoryManager: Total allocation exceeds 95.00% (1,020,054,720 bytes) of heap memory\n",
      "Scaling row group sizes to 95.00% for 8 writers\n",
      "23/03/04 22:03:28 WARN MemoryManager: Total allocation exceeds 95.00% (1,020,054,720 bytes) of heap memory\n",
      "Scaling row group sizes to 84.44% for 9 writers\n",
      "23/03/04 22:03:28 WARN MemoryManager: Total allocation exceeds 95.00% (1,020,054,720 bytes) of heap memory\n",
      "Scaling row group sizes to 76.00% for 10 writers\n",
      "23/03/04 22:03:28 WARN MemoryManager: Total allocation exceeds 95.00% (1,020,054,720 bytes) of heap memory\n",
      "Scaling row group sizes to 69.09% for 11 writers\n",
      "23/03/04 22:03:28 WARN MemoryManager: Total allocation exceeds 95.00% (1,020,054,720 bytes) of heap memory\n",
      "Scaling row group sizes to 63.33% for 12 writers\n",
      "23/03/04 22:03:28 WARN MemoryManager: Total allocation exceeds 95.00% (1,020,054,720 bytes) of heap memory\n",
      "Scaling row group sizes to 69.09% for 11 writers\n",
      "23/03/04 22:03:28 WARN MemoryManager: Total allocation exceeds 95.00% (1,020,054,720 bytes) of heap memory\n",
      "Scaling row group sizes to 76.00% for 10 writers\n",
      "23/03/04 22:03:28 WARN MemoryManager: Total allocation exceeds 95.00% (1,020,054,720 bytes) of heap memory\n",
      "Scaling row group sizes to 84.44% for 9 writers\n",
      "23/03/04 22:03:28 WARN MemoryManager: Total allocation exceeds 95.00% (1,020,054,720 bytes) of heap memory\n",
      "Scaling row group sizes to 95.00% for 8 writers\n",
      "23/03/04 22:03:28 WARN MemoryManager: Total allocation exceeds 95.00% (1,020,054,720 bytes) of heap memory\n",
      "Scaling row group sizes to 95.00% for 8 writers\n"
     ]
    },
    {
     "name": "stderr",
     "output_type": "stream",
     "text": [
      "\r",
      "                                                                                \r"
     ]
    }
   ],
   "source": [
    "df_yellow_revenue \\\n",
    "    .repartition(20) \\\n",
    "    .write.parquet('data/report/revenue/yellow', mode='overwrite')"
   ]
  },
  {
   "cell_type": "code",
   "execution_count": 11,
   "id": "fd5d74d7",
   "metadata": {},
   "outputs": [],
   "source": [
    "df_green_revenue = spark.read.parquet('data/report/revenue/green')\n",
    "df_yellow_revenue = spark.read.parquet('data/report/revenue/yellow')"
   ]
  },
  {
   "cell_type": "code",
   "execution_count": 12,
   "id": "35015ee6",
   "metadata": {},
   "outputs": [],
   "source": [
    "df_green_revenue_tmp = df_green_revenue \\\n",
    "    .withColumnRenamed('amount', 'green_amount') \\\n",
    "    .withColumnRenamed('number_records', 'green_number_records')\n",
    "\n",
    "df_yellow_revenue_tmp = df_yellow_revenue \\\n",
    "    .withColumnRenamed('amount', 'yellow_amount') \\\n",
    "    .withColumnRenamed('number_records', 'yellow_number_records')"
   ]
  },
  {
   "cell_type": "code",
   "execution_count": 13,
   "id": "ec9f34ea",
   "metadata": {},
   "outputs": [],
   "source": [
    "df_join = df_green_revenue_tmp.join(df_yellow_revenue_tmp, on=['hour', 'zone'], how='outer')"
   ]
  },
  {
   "cell_type": "code",
   "execution_count": 14,
   "id": "10238be7",
   "metadata": {},
   "outputs": [
    {
     "name": "stderr",
     "output_type": "stream",
     "text": [
      "\r",
      "[Stage 23:>                                                       (0 + 12) / 13]\r"
     ]
    },
    {
     "name": "stdout",
     "output_type": "stream",
     "text": [
      "23/03/04 22:05:24 WARN MemoryManager: Total allocation exceeds 95.00% (1,020,054,720 bytes) of heap memory\n",
      "Scaling row group sizes to 95.00% for 8 writers\n",
      "23/03/04 22:05:24 WARN MemoryManager: Total allocation exceeds 95.00% (1,020,054,720 bytes) of heap memory\n",
      "Scaling row group sizes to 84.44% for 9 writers\n",
      "23/03/04 22:05:24 WARN MemoryManager: Total allocation exceeds 95.00% (1,020,054,720 bytes) of heap memory\n",
      "Scaling row group sizes to 76.00% for 10 writers\n",
      "23/03/04 22:05:24 WARN MemoryManager: Total allocation exceeds 95.00% (1,020,054,720 bytes) of heap memory\n",
      "Scaling row group sizes to 69.09% for 11 writers\n",
      "23/03/04 22:05:24 WARN MemoryManager: Total allocation exceeds 95.00% (1,020,054,720 bytes) of heap memory\n",
      "Scaling row group sizes to 63.33% for 12 writers\n",
      "23/03/04 22:05:25 WARN MemoryManager: Total allocation exceeds 95.00% (1,020,054,720 bytes) of heap memory\n",
      "Scaling row group sizes to 69.09% for 11 writers\n",
      "23/03/04 22:05:25 WARN MemoryManager: Total allocation exceeds 95.00% (1,020,054,720 bytes) of heap memory\n",
      "Scaling row group sizes to 76.00% for 10 writers\n",
      "23/03/04 22:05:25 WARN MemoryManager: Total allocation exceeds 95.00% (1,020,054,720 bytes) of heap memory\n",
      "Scaling row group sizes to 84.44% for 9 writers\n",
      "23/03/04 22:05:25 WARN MemoryManager: Total allocation exceeds 95.00% (1,020,054,720 bytes) of heap memory\n",
      "Scaling row group sizes to 95.00% for 8 writers\n"
     ]
    },
    {
     "name": "stderr",
     "output_type": "stream",
     "text": [
      "\r",
      "[Stage 23:====>                                                   (1 + 12) / 13]\r",
      "\r",
      "                                                                                \r"
     ]
    }
   ],
   "source": [
    "df_join.write.parquet('data/report/revenue/total', mode='overwrite')"
   ]
  },
  {
   "cell_type": "code",
   "execution_count": 15,
   "id": "c3af7169",
   "metadata": {},
   "outputs": [],
   "source": [
    "df_join = spark.read.parquet('data/report/revenue/total')"
   ]
  },
  {
   "cell_type": "code",
   "execution_count": 16,
   "id": "bc2a6680",
   "metadata": {},
   "outputs": [
    {
     "data": {
      "text/plain": [
       "DataFrame[hour: timestamp, zone: int, green_amount: double, green_number_records: bigint, yellow_amount: double, yellow_number_records: bigint]"
      ]
     },
     "execution_count": 16,
     "metadata": {},
     "output_type": "execute_result"
    }
   ],
   "source": [
    "df_join"
   ]
  },
  {
   "cell_type": "code",
   "execution_count": 21,
   "id": "6b4d8e1d",
   "metadata": {},
   "outputs": [
    {
     "name": "stdout",
     "output_type": "stream",
     "text": [
      "+-------------------+----+-----------------+--------------------+------------------+---------------------+\n",
      "|               hour|zone|     green_amount|green_number_records|     yellow_amount|yellow_number_records|\n",
      "+-------------------+----+-----------------+--------------------+------------------+---------------------+\n",
      "|2020-01-01 00:00:00|  32|68.94999999999999|                   2|              18.0|                    1|\n",
      "|2020-01-01 00:00:00|  79|             null|                null| 12573.81000000003|                  721|\n",
      "|2020-01-01 00:00:00|  83|             94.1|                   7|               9.8|                    1|\n",
      "|2020-01-01 00:00:00| 130|           133.35|                   7|              null|                 null|\n",
      "|2020-01-01 00:00:00| 142|             null|                null| 9252.300000000021|                  488|\n",
      "|2020-01-01 00:00:00| 159|             13.8|                   1|              58.8|                    2|\n",
      "|2020-01-01 00:00:00| 210|             18.1|                   2|              null|                 null|\n",
      "|2020-01-01 01:00:00|   7|690.2099999999998|                  42|           1004.71|                   62|\n",
      "|2020-01-01 01:00:00|  10|95.47999999999999|                   2|             57.67|                    1|\n",
      "|2020-01-01 01:00:00|  16|72.96000000000001|                   2|              43.0|                    1|\n",
      "|2020-01-01 01:00:00|  34|             null|                null|             19.89|                    1|\n",
      "|2020-01-01 01:00:00|  37|            88.16|                   4|            736.46|                   24|\n",
      "|2020-01-01 01:00:00|  60|           156.04|                   7|              72.0|                    2|\n",
      "|2020-01-01 01:00:00|  87|             null|                null|           4496.19|                  183|\n",
      "|2020-01-01 01:00:00|  88|             null|                null|1293.3799999999999|                   55|\n",
      "|2020-01-01 01:00:00|  93|             null|                null|              11.8|                    1|\n",
      "|2020-01-01 01:00:00| 100|             null|                null|1711.8399999999992|                   72|\n",
      "|2020-01-01 01:00:00| 138|             null|                null|241.95000000000005|                    7|\n",
      "|2020-01-01 01:00:00| 162|             null|                null| 5736.690000000005|                  298|\n",
      "|2020-01-01 01:00:00| 164|             null|                null| 9384.080000000018|                  488|\n",
      "+-------------------+----+-----------------+--------------------+------------------+---------------------+\n",
      "only showing top 20 rows\n",
      "\n"
     ]
    }
   ],
   "source": [
    "df_join.show()"
   ]
  },
  {
   "cell_type": "code",
   "execution_count": 17,
   "id": "abb46398",
   "metadata": {},
   "outputs": [],
   "source": [
    "df_zones = spark.read.parquet('zones/')"
   ]
  },
  {
   "cell_type": "code",
   "execution_count": 20,
   "id": "fe2df955",
   "metadata": {},
   "outputs": [
    {
     "name": "stdout",
     "output_type": "stream",
     "text": [
      "+----------+-------------+--------------------+------------+\n",
      "|LocationID|      Borough|                Zone|service_zone|\n",
      "+----------+-------------+--------------------+------------+\n",
      "|         1|          EWR|      Newark Airport|         EWR|\n",
      "|         2|       Queens|         Jamaica Bay|   Boro Zone|\n",
      "|         3|        Bronx|Allerton/Pelham G...|   Boro Zone|\n",
      "|         4|    Manhattan|       Alphabet City| Yellow Zone|\n",
      "|         5|Staten Island|       Arden Heights|   Boro Zone|\n",
      "|         6|Staten Island|Arrochar/Fort Wad...|   Boro Zone|\n",
      "|         7|       Queens|             Astoria|   Boro Zone|\n",
      "|         8|       Queens|        Astoria Park|   Boro Zone|\n",
      "|         9|       Queens|          Auburndale|   Boro Zone|\n",
      "|        10|       Queens|        Baisley Park|   Boro Zone|\n",
      "|        11|     Brooklyn|          Bath Beach|   Boro Zone|\n",
      "|        12|    Manhattan|        Battery Park| Yellow Zone|\n",
      "|        13|    Manhattan|   Battery Park City| Yellow Zone|\n",
      "|        14|     Brooklyn|           Bay Ridge|   Boro Zone|\n",
      "|        15|       Queens|Bay Terrace/Fort ...|   Boro Zone|\n",
      "|        16|       Queens|             Bayside|   Boro Zone|\n",
      "|        17|     Brooklyn|             Bedford|   Boro Zone|\n",
      "|        18|        Bronx|        Bedford Park|   Boro Zone|\n",
      "|        19|       Queens|           Bellerose|   Boro Zone|\n",
      "|        20|        Bronx|             Belmont|   Boro Zone|\n",
      "+----------+-------------+--------------------+------------+\n",
      "only showing top 20 rows\n",
      "\n"
     ]
    }
   ],
   "source": [
    "df_zones.show()"
   ]
  },
  {
   "cell_type": "code",
   "execution_count": 18,
   "id": "b3cf98a5",
   "metadata": {},
   "outputs": [],
   "source": [
    "df_result = df_join.join(df_zones, df_join.zone == df_zones.LocationID)"
   ]
  },
  {
   "cell_type": "code",
   "execution_count": 22,
   "id": "506a4e0d",
   "metadata": {},
   "outputs": [
    {
     "name": "stdout",
     "output_type": "stream",
     "text": [
      "+-------------------+----+-----------------+--------------------+------------------+---------------------+----------+---------+--------------------+------------+\n",
      "|               hour|zone|     green_amount|green_number_records|     yellow_amount|yellow_number_records|LocationID|  Borough|                Zone|service_zone|\n",
      "+-------------------+----+-----------------+--------------------+------------------+---------------------+----------+---------+--------------------+------------+\n",
      "|2020-01-01 00:00:00|  32|68.94999999999999|                   2|              18.0|                    1|        32|    Bronx|           Bronxdale|   Boro Zone|\n",
      "|2020-01-01 00:00:00|  79|             null|                null| 12573.81000000003|                  721|        79|Manhattan|        East Village| Yellow Zone|\n",
      "|2020-01-01 00:00:00|  83|             94.1|                   7|               9.8|                    1|        83|   Queens|    Elmhurst/Maspeth|   Boro Zone|\n",
      "|2020-01-01 00:00:00| 130|           133.35|                   7|              null|                 null|       130|   Queens|             Jamaica|   Boro Zone|\n",
      "|2020-01-01 00:00:00| 142|             null|                null| 9252.300000000021|                  488|       142|Manhattan| Lincoln Square East| Yellow Zone|\n",
      "|2020-01-01 00:00:00| 159|             13.8|                   1|              58.8|                    2|       159|    Bronx|       Melrose South|   Boro Zone|\n",
      "|2020-01-01 00:00:00| 210|             18.1|                   2|              null|                 null|       210| Brooklyn|      Sheepshead Bay|   Boro Zone|\n",
      "|2020-01-01 01:00:00|   7|690.2099999999998|                  42|           1004.71|                   62|         7|   Queens|             Astoria|   Boro Zone|\n",
      "|2020-01-01 01:00:00|  10|95.47999999999999|                   2|             57.67|                    1|        10|   Queens|        Baisley Park|   Boro Zone|\n",
      "|2020-01-01 01:00:00|  16|72.96000000000001|                   2|              43.0|                    1|        16|   Queens|             Bayside|   Boro Zone|\n",
      "|2020-01-01 01:00:00|  34|             null|                null|             19.89|                    1|        34| Brooklyn|  Brooklyn Navy Yard|   Boro Zone|\n",
      "|2020-01-01 01:00:00|  37|            88.16|                   4|            736.46|                   24|        37| Brooklyn|      Bushwick South|   Boro Zone|\n",
      "|2020-01-01 01:00:00|  60|           156.04|                   7|              72.0|                    2|        60|    Bronx|   Crotona Park East|   Boro Zone|\n",
      "|2020-01-01 01:00:00|  87|             null|                null|           4496.19|                  183|        87|Manhattan|Financial Distric...| Yellow Zone|\n",
      "|2020-01-01 01:00:00|  88|             null|                null|1293.3799999999999|                   55|        88|Manhattan|Financial Distric...| Yellow Zone|\n",
      "|2020-01-01 01:00:00|  93|             null|                null|              11.8|                    1|        93|   Queens|Flushing Meadows-...|   Boro Zone|\n",
      "|2020-01-01 01:00:00| 100|             null|                null|1711.8399999999992|                   72|       100|Manhattan|    Garment District| Yellow Zone|\n",
      "|2020-01-01 01:00:00| 138|             null|                null|241.95000000000005|                    7|       138|   Queens|   LaGuardia Airport|    Airports|\n",
      "|2020-01-01 01:00:00| 162|             null|                null| 5736.690000000005|                  298|       162|Manhattan|        Midtown East| Yellow Zone|\n",
      "|2020-01-01 01:00:00| 164|             null|                null| 9384.080000000018|                  488|       164|Manhattan|       Midtown South| Yellow Zone|\n",
      "+-------------------+----+-----------------+--------------------+------------------+---------------------+----------+---------+--------------------+------------+\n",
      "only showing top 20 rows\n",
      "\n"
     ]
    }
   ],
   "source": [
    "df_result.show()"
   ]
  },
  {
   "cell_type": "code",
   "execution_count": 19,
   "id": "5e0614ba",
   "metadata": {},
   "outputs": [
    {
     "name": "stdout",
     "output_type": "stream",
     "text": [
      "23/03/04 22:05:58 WARN MemoryManager: Total allocation exceeds 95.00% (1,020,054,720 bytes) of heap memory\n",
      "Scaling row group sizes to 95.00% for 8 writers\n",
      "23/03/04 22:05:58 WARN MemoryManager: Total allocation exceeds 95.00% (1,020,054,720 bytes) of heap memory\n",
      "Scaling row group sizes to 84.44% for 9 writers\n",
      "23/03/04 22:05:58 WARN MemoryManager: Total allocation exceeds 95.00% (1,020,054,720 bytes) of heap memory\n",
      "Scaling row group sizes to 76.00% for 10 writers\n",
      "23/03/04 22:05:58 WARN MemoryManager: Total allocation exceeds 95.00% (1,020,054,720 bytes) of heap memory\n",
      "Scaling row group sizes to 69.09% for 11 writers\n",
      "23/03/04 22:05:58 WARN MemoryManager: Total allocation exceeds 95.00% (1,020,054,720 bytes) of heap memory\n",
      "Scaling row group sizes to 63.33% for 12 writers\n"
     ]
    },
    {
     "name": "stderr",
     "output_type": "stream",
     "text": [
      "\r",
      "[Stage 27:>                                                       (0 + 12) / 13]\r"
     ]
    },
    {
     "name": "stdout",
     "output_type": "stream",
     "text": [
      "23/03/04 22:05:58 WARN MemoryManager: Total allocation exceeds 95.00% (1,020,054,720 bytes) of heap memory\n",
      "Scaling row group sizes to 69.09% for 11 writers\n",
      "23/03/04 22:05:59 WARN MemoryManager: Total allocation exceeds 95.00% (1,020,054,720 bytes) of heap memory\n",
      "Scaling row group sizes to 76.00% for 10 writers\n",
      "23/03/04 22:05:59 WARN MemoryManager: Total allocation exceeds 95.00% (1,020,054,720 bytes) of heap memory\n",
      "Scaling row group sizes to 84.44% for 9 writers\n",
      "23/03/04 22:05:59 WARN MemoryManager: Total allocation exceeds 95.00% (1,020,054,720 bytes) of heap memory\n",
      "Scaling row group sizes to 95.00% for 8 writers\n",
      "23/03/04 22:05:59 WARN MemoryManager: Total allocation exceeds 95.00% (1,020,054,720 bytes) of heap memory\n",
      "Scaling row group sizes to 95.00% for 8 writers\n"
     ]
    },
    {
     "name": "stderr",
     "output_type": "stream",
     "text": [
      "                                                                                \r"
     ]
    }
   ],
   "source": [
    "df_result.drop('LocationID', 'zone').write.parquet('tmp/revenue-zones')"
   ]
  },
  {
   "cell_type": "code",
   "execution_count": 23,
   "id": "9f5ca913",
   "metadata": {},
   "outputs": [
    {
     "name": "stdout",
     "output_type": "stream",
     "text": [
      "+-------------------+----+-----------------+--------------------+------------------+---------------------+----------+---------+--------------------+------------+\n",
      "|               hour|zone|     green_amount|green_number_records|     yellow_amount|yellow_number_records|LocationID|  Borough|                Zone|service_zone|\n",
      "+-------------------+----+-----------------+--------------------+------------------+---------------------+----------+---------+--------------------+------------+\n",
      "|2020-01-01 00:00:00|  32|68.94999999999999|                   2|              18.0|                    1|        32|    Bronx|           Bronxdale|   Boro Zone|\n",
      "|2020-01-01 00:00:00|  79|             null|                null| 12573.81000000003|                  721|        79|Manhattan|        East Village| Yellow Zone|\n",
      "|2020-01-01 00:00:00|  83|             94.1|                   7|               9.8|                    1|        83|   Queens|    Elmhurst/Maspeth|   Boro Zone|\n",
      "|2020-01-01 00:00:00| 130|           133.35|                   7|              null|                 null|       130|   Queens|             Jamaica|   Boro Zone|\n",
      "|2020-01-01 00:00:00| 142|             null|                null| 9252.300000000021|                  488|       142|Manhattan| Lincoln Square East| Yellow Zone|\n",
      "|2020-01-01 00:00:00| 159|             13.8|                   1|              58.8|                    2|       159|    Bronx|       Melrose South|   Boro Zone|\n",
      "|2020-01-01 00:00:00| 210|             18.1|                   2|              null|                 null|       210| Brooklyn|      Sheepshead Bay|   Boro Zone|\n",
      "|2020-01-01 01:00:00|   7|690.2099999999998|                  42|           1004.71|                   62|         7|   Queens|             Astoria|   Boro Zone|\n",
      "|2020-01-01 01:00:00|  10|95.47999999999999|                   2|             57.67|                    1|        10|   Queens|        Baisley Park|   Boro Zone|\n",
      "|2020-01-01 01:00:00|  16|72.96000000000001|                   2|              43.0|                    1|        16|   Queens|             Bayside|   Boro Zone|\n",
      "|2020-01-01 01:00:00|  34|             null|                null|             19.89|                    1|        34| Brooklyn|  Brooklyn Navy Yard|   Boro Zone|\n",
      "|2020-01-01 01:00:00|  37|            88.16|                   4|            736.46|                   24|        37| Brooklyn|      Bushwick South|   Boro Zone|\n",
      "|2020-01-01 01:00:00|  60|           156.04|                   7|              72.0|                    2|        60|    Bronx|   Crotona Park East|   Boro Zone|\n",
      "|2020-01-01 01:00:00|  87|             null|                null|           4496.19|                  183|        87|Manhattan|Financial Distric...| Yellow Zone|\n",
      "|2020-01-01 01:00:00|  88|             null|                null|1293.3799999999999|                   55|        88|Manhattan|Financial Distric...| Yellow Zone|\n",
      "|2020-01-01 01:00:00|  93|             null|                null|              11.8|                    1|        93|   Queens|Flushing Meadows-...|   Boro Zone|\n",
      "|2020-01-01 01:00:00| 100|             null|                null|1711.8399999999992|                   72|       100|Manhattan|    Garment District| Yellow Zone|\n",
      "|2020-01-01 01:00:00| 138|             null|                null|241.95000000000005|                    7|       138|   Queens|   LaGuardia Airport|    Airports|\n",
      "|2020-01-01 01:00:00| 162|             null|                null| 5736.690000000005|                  298|       162|Manhattan|        Midtown East| Yellow Zone|\n",
      "|2020-01-01 01:00:00| 164|             null|                null| 9384.080000000018|                  488|       164|Manhattan|       Midtown South| Yellow Zone|\n",
      "+-------------------+----+-----------------+--------------------+------------------+---------------------+----------+---------+--------------------+------------+\n",
      "only showing top 20 rows\n",
      "\n"
     ]
    }
   ],
   "source": [
    "df_result.show()"
   ]
  },
  {
   "cell_type": "code",
   "execution_count": null,
   "id": "d0a50bf9",
   "metadata": {},
   "outputs": [],
   "source": []
  }
 ],
 "metadata": {
  "kernelspec": {
   "display_name": "Python 3 (ipykernel)",
   "language": "python",
   "name": "python3"
  },
  "language_info": {
   "codemirror_mode": {
    "name": "ipython",
    "version": 3
   },
   "file_extension": ".py",
   "mimetype": "text/x-python",
   "name": "python",
   "nbconvert_exporter": "python",
   "pygments_lexer": "ipython3",
   "version": "3.10.9"
  }
 },
 "nbformat": 4,
 "nbformat_minor": 5
}
